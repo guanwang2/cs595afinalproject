{
 "cells": [
  {
   "cell_type": "code",
   "execution_count": 14,
   "metadata": {},
   "outputs": [
    {
     "name": "stdout",
     "output_type": "stream",
     "text": [
      "Extracting MNIST_data/train-images-idx3-ubyte.gz\n",
      "Extracting MNIST_data/train-labels-idx1-ubyte.gz\n",
      "Extracting MNIST_data/t10k-images-idx3-ubyte.gz\n",
      "Extracting MNIST_data/t10k-labels-idx1-ubyte.gz\n"
     ]
    }
   ],
   "source": [
    "import tensorflow as tf  \n",
    "from  tensorflow.examples.tutorials.mnist  import  input_data\n",
    "import numpy as np \n",
    "import cv2\n",
    "import matplotlib.pyplot as plt\n",
    "mnist = input_data.read_data_sets(\"MNIST_data/\", one_hot = True)"
   ]
  },
  {
   "cell_type": "code",
   "execution_count": 15,
   "metadata": {
    "collapsed": true
   },
   "outputs": [],
   "source": [
    "classes = 10 #0-9\n",
    "input_size = 784 #28*28\n",
    "hidden_size = 30\n",
    "batch_size = 100\n",
    "iterations = 50000\n",
    "X = tf.placeholder (tf.float32, shape = [None, input_size])\n",
    "Y = tf.placeholder (tf.float32, shape = [None, classes])"
   ]
  },
  {
   "cell_type": "code",
   "execution_count": 16,
   "metadata": {},
   "outputs": [],
   "source": [
    "W1 = tf.Variable(tf.random_normal ([input_size, hidden_size], stddev = 0.1))\n",
    "B1 = tf.Variable(tf.constant (0.1), [hidden_size])\n",
    "W2 = tf.Variable(tf.random_normal ([hidden_size, classes], stddev = 0.1))\n",
    "B2 = tf.Variable(tf.constant (0.1), [classes])\n",
    "#Hidden layer\n",
    "hidden = tf.matmul (X, W1) + B1\n",
    "hidden_output = tf.nn.relu (hidden)\n",
    "#Output layer\n",
    "Output = tf.matmul (hidden_output, W2) + B2\n",
    "Output = tf.nn.relu (Output)\n",
    "#Calculate loss\n",
    "loss = tf.reduce_mean (tf.nn.softmax_cross_entropy_with_logits (labels = Y, logits = Output))\n",
    "optimizer = tf.train.GradientDescentOptimizer (0.1).minimize (loss)\n",
    "accuracy = tf.reduce_mean(tf.cast(tf.equal (tf.argmax (Y, 1), tf.argmax (Output, 1)), tf.float32))"
   ]
  },
  {
   "cell_type": "code",
   "execution_count": 17,
   "metadata": {},
   "outputs": [
    {
     "name": "stdout",
     "output_type": "stream",
     "text": [
      "image= 8000, the accuracy is = 0.99 \n",
      "image= 16000, the accuracy is = 1 \n",
      "image= 24000, the accuracy is = 0.98 \n",
      "image= 32000, the accuracy is = 1 \n",
      "image= 40000, the accuracy is = 1 \n",
      "image= 48000, the accuracy is = 1 \n"
     ]
    }
   ],
   "source": [
    "# Start calculation and print accuracy\n",
    "init = tf.global_variables_initializer ()\n",
    "sess = tf.Session ()\n",
    "sess.run (init)\n",
    "for i in range (iterations) :\n",
    "    batch = mnist.train.next_batch (batch_size)\n",
    "    batch_input = batch[0]\n",
    "    batch_labels = batch[1]\n",
    "    training_loss = sess.run ([optimizer, loss], feed_dict = {X: batch_input, Y: batch_labels})\n",
    "    if (i+1) % 8000 == 0 :\n",
    "        train_accuracy = accuracy.eval (session = sess, feed_dict = {X: batch_input,Y: batch_labels})\n",
    "        print (\"image= %d, the accuracy is = %g \" % (i+1, train_accuracy))  "
   ]
  },
  {
   "cell_type": "code",
   "execution_count": 18,
   "metadata": {},
   "outputs": [
    {
     "name": "stdout",
     "output_type": "stream",
     "text": [
      "The predictions for the first 30 images are：\n",
      "7,2,1,0,4,\t\n",
      "1,4,9,5,9,\t\n",
      "0,6,9,0,1,\t\n",
      "5,9,7,8,4,\t\n",
      "9,6,6,5,4,\t\n",
      "0,7,4,0,1,\t\n",
      "The first 30 images in testing sets are ：\n"
     ]
    }
   ],
   "source": [
    "#Visualize the testing set\n",
    "def Show(n):\n",
    "    Output_a=tf.argmax (Output, 1).eval(session=sess,feed_dict = {X: mnist.test.images,Y: mnist.test.labels})\n",
    "    fig, ax = plt.subplots(nrows=int(n/5),ncols=5 )\n",
    "    ax = ax.flatten()\n",
    "    print('The predictions for the first {} images are：'.format(n))\n",
    "    for i in range(n):\n",
    "        print(Output_a[i],end=',')\n",
    "        if int((i+1)%5) ==0:\n",
    "            print('\\t')\n",
    "        img = mnist.test.images[i].reshape((28,28))\n",
    "        ax[i].imshow(img, cmap='Greys', interpolation='nearest')\n",
    "    print('The first {} images in testing sets are ：'.format(n))\n",
    "Show(30)"
   ]
  },
  {
   "cell_type": "code",
   "execution_count": 19,
   "metadata": {
    "collapsed": true
   },
   "outputs": [],
   "source": [
    "def get_image(path):    \n",
    "    image = cv2.imread(path, cv2.IMREAD_GRAYSCALE)\n",
    "    image1 = cv2.resize(image, dsize = (28, 28))\n",
    "    image1 = np.resize(image1, new_shape = (1, 784))\n",
    "    return image, image1\n",
    "\n",
    "def get_prediction(image_path, sess, output):\n",
    "    image, image1 = get_image(image_path)\n",
    "    result = sess.run(output, feed_dict = {X: image1})\n",
    "    result = np.argmax(result, 1)\n",
    "    print('the prediction is', result)\n",
    "    cv2.putText(image, 'The prediction is {}'.format(result),(50, 50),cv2.FONT_HERSHEY_SIMPLEX, 1, (20,25,15), 2, cv2.LINE_AA)\n",
    "    cv2.imshow('image',image)\n",
    "    cv2.waitKey(0)\n",
    "    cv2.destroyAllWindows()"
   ]
  },
  {
   "cell_type": "code",
   "execution_count": 20,
   "metadata": {
    "scrolled": true
   },
   "outputs": [
    {
     "name": "stdout",
     "output_type": "stream",
     "text": [
      "the prediction is [8]\n"
     ]
    }
   ],
   "source": [
    "get_prediction('./0.jpg', sess, Output) "
   ]
  },
  {
   "cell_type": "code",
   "execution_count": null,
   "metadata": {
    "collapsed": true
   },
   "outputs": [],
   "source": []
  }
 ],
 "metadata": {
  "kernelspec": {
   "display_name": "Python 3",
   "language": "python",
   "name": "python3"
  },
  "language_info": {
   "codemirror_mode": {
    "name": "ipython",
    "version": 3
   },
   "file_extension": ".py",
   "mimetype": "text/x-python",
   "name": "python",
   "nbconvert_exporter": "python",
   "pygments_lexer": "ipython3",
   "version": "3.5.4"
  }
 },
 "nbformat": 4,
 "nbformat_minor": 2
}
